{
 "cells": [
  {
   "cell_type": "markdown",
   "metadata": {},
   "source": [
    "# exercícios de Loops, Condicionais, Métodos e funções."
   ]
  },
  {
   "cell_type": "code",
   "execution_count": 2,
   "metadata": {},
   "outputs": [
    {
     "name": "stdout",
     "output_type": "stream",
     "text": [
      "python funciona\n"
     ]
    }
   ],
   "source": [
    "# if é palavra reservada, não pode ser nome de variável. \n",
    "#A palavra ´print' precisa estar indentada, com um tab.\n",
    "#if testa apenas o verdadeiro, não analise falso.\n",
    "if 10<11:\n",
    "    print(\"python funciona\")"
   ]
  },
  {
   "cell_type": "code",
   "execution_count": 4,
   "metadata": {},
   "outputs": [
    {
     "name": "stdout",
     "output_type": "stream",
     "text": [
      "algo de errado não está certo!\n"
     ]
    }
   ],
   "source": [
    "# Else é palavra reservada. precisa dos \":\".\n",
    "#else testa o falso, enquanto o if o verdadeiro.\n",
    "\n",
    "if 10>11:\n",
    "    print(\"python funciona!\")\n",
    "else :\n",
    "    print(\"algo de errado não está certo!\")"
   ]
  },
  {
   "cell_type": "code",
   "execution_count": null,
   "metadata": {},
   "outputs": [],
   "source": []
  }
 ],
 "metadata": {
  "kernelspec": {
   "display_name": "Python 3",
   "language": "python",
   "name": "python3"
  },
  "language_info": {
   "codemirror_mode": {
    "name": "ipython",
    "version": 3
   },
   "file_extension": ".py",
   "mimetype": "text/x-python",
   "name": "python",
   "nbconvert_exporter": "python",
   "pygments_lexer": "ipython3",
   "version": "3.8.5"
  }
 },
 "nbformat": 4,
 "nbformat_minor": 4
}
