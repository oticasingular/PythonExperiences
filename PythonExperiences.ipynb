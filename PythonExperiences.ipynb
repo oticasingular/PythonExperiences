{
 "cells": [
  {
   "cell_type": "markdown",
   "metadata": {},
   "source": [
    "# exercícios de Loops, Condicionais, Métodos e funções."
   ]
  },
  {
   "cell_type": "code",
   "execution_count": 2,
   "metadata": {},
   "outputs": [
    {
     "name": "stdout",
     "output_type": "stream",
     "text": [
      "python funciona\n"
     ]
    }
   ],
   "source": [
    "# if é palavra reservada, não pode ser nome de variável. \n",
    "#A palavra ´print' precisa estar indentada, com um tab.\n",
    "#if testa apenas o verdadeiro, não analise falso.\n",
    "if 10<11:\n",
    "    print(\"python funciona\")"
   ]
  },
  {
   "cell_type": "code",
   "execution_count": 4,
   "metadata": {},
   "outputs": [
    {
     "name": "stdout",
     "output_type": "stream",
     "text": [
      "algo de errado não está certo!\n"
     ]
    }
   ],
   "source": [
    "# Else é palavra reservada. precisa dos \":\".\n",
    "#else testa o falso, enquanto o if o verdadeiro.\n",
    "#if e else segue a lógica booleana, já que if=true e else=false.\n",
    "\n",
    "if 10>11:\n",
    "    print(\"python funciona!\")\n",
    "else :\n",
    "    print(\"algo de errado não está certo!\")"
   ]
  },
  {
   "cell_type": "code",
   "execution_count": 5,
   "metadata": {},
   "outputs": [
    {
     "data": {
      "text/plain": [
       "True"
      ]
     },
     "execution_count": 5,
     "metadata": {},
     "output_type": "execute_result"
    }
   ],
   "source": [
    "6>3"
   ]
  },
  {
   "cell_type": "code",
   "execution_count": 6,
   "metadata": {},
   "outputs": [
    {
     "data": {
      "text/plain": [
       "True"
      ]
     },
     "execution_count": 6,
     "metadata": {},
     "output_type": "execute_result"
    }
   ],
   "source": [
    "8<9"
   ]
  },
  {
   "cell_type": "code",
   "execution_count": 8,
   "metadata": {},
   "outputs": [
    {
     "data": {
      "text/plain": [
       "False"
      ]
     },
     "execution_count": 8,
     "metadata": {},
     "output_type": "execute_result"
    }
   ],
   "source": [
    "# diferença entre atribuição e igualdade.\n",
    "# \"=\" atribuição\n",
    "# \"==\" igualdade\n",
    "10 == 11"
   ]
  },
  {
   "cell_type": "code",
   "execution_count": 9,
   "metadata": {},
   "outputs": [
    {
     "name": "stdout",
     "output_type": "stream",
     "text": [
      "testanto python\n"
     ]
    }
   ],
   "source": [
    "if 10 == 10:\n",
    "    print(\"testanto python\")"
   ]
  },
  {
   "cell_type": "code",
   "execution_count": 10,
   "metadata": {},
   "outputs": [
    {
     "name": "stdout",
     "output_type": "stream",
     "text": [
      "parece que funciona\n"
     ]
    }
   ],
   "source": [
    "if True:\n",
    "    print(\"parece que funciona\")\n"
   ]
  },
  {
   "cell_type": "code",
   "execution_count": 20,
   "metadata": {},
   "outputs": [
    {
     "name": "stdout",
     "output_type": "stream",
     "text": [
      "Tudo funciona!\n"
     ]
    }
   ],
   "source": [
    "if 10<11:\n",
    "    print(\"Tudo funciona!\")"
   ]
  },
  {
   "cell_type": "markdown",
   "metadata": {},
   "source": [
    "## Condicionais Aninhadas\n"
   ]
  },
  {
   "cell_type": "code",
   "execution_count": 21,
   "metadata": {},
   "outputs": [
    {
     "name": "stdout",
     "output_type": "stream",
     "text": [
      "Você pode tirar a CNH.\n"
     ]
    }
   ],
   "source": [
    "idade = 18\n",
    "if idade > 17:\n",
    "    print(\"Você pode tirar a CNH.\")"
   ]
  },
  {
   "cell_type": "code",
   "execution_count": 24,
   "metadata": {},
   "outputs": [
    {
     "name": "stdout",
     "output_type": "stream",
     "text": [
      "Ok Ana, você está autorizada a entrar!\n"
     ]
    }
   ],
   "source": [
    "nome = \"Ana\"\n",
    "if idade >14:\n",
    "    if nome == \"Ana\":\n",
    "        print(\"Ok Ana, você está autorizada a entrar!\")\n",
    "    else:\n",
    "        print(\"Desculpe, mas você não está autorizado a entrar!\")\n"
   ]
  },
  {
   "cell_type": "code",
   "execution_count": 26,
   "metadata": {},
   "outputs": [
    {
     "name": "stdout",
     "output_type": "stream",
     "text": [
      "Ok Ana, você está autorizada a entrar!\n"
     ]
    }
   ],
   "source": [
    "#seguindo a lógica booleana, o conectivo \"and\" precisa que ambos valores sejam verdadeiros para que o código rode.\n",
    "idade = 13\n",
    "nome= \"Ana\"\n",
    "if idade >=13 and nome ==\"Ana\":\n",
    "    print(\"Ok Ana, você está autorizada a entrar!\")"
   ]
  },
  {
   "cell_type": "code",
   "execution_count": 27,
   "metadata": {},
   "outputs": [
    {
     "name": "stdout",
     "output_type": "stream",
     "text": [
      "ok Dandara, você está autorizada a entrar!\n"
     ]
    }
   ],
   "source": [
    "##já o conectivo \"or\" basta que apenas um seja verdadeiro.\n",
    "## o conectivo \"or\" pede as condições entre parênteses.\n",
    "idade=12\n",
    "nome = \"Dandara\"\n",
    "if (idade >=11) or (nome == \"Dandara\"):\n",
    "    print(\"ok Dandara, você está autorizada a entrar!\")"
   ]
  },
  {
   "cell_type": "markdown",
   "metadata": {},
   "source": [
    "## Elif"
   ]
  },
  {
   "cell_type": "code",
   "execution_count": 28,
   "metadata": {},
   "outputs": [
    {
     "name": "stdout",
     "output_type": "stream",
     "text": [
      "hoje fará sol!\n"
     ]
    }
   ],
   "source": [
    "dia = \"terça\"\n",
    "if dia ==\"segunda\":\n",
    "    print(\"hoje vai chover!\")\n",
    "else:\n",
    "    print(\"hoje fará sol!\")"
   ]
  },
  {
   "cell_type": "code",
   "execution_count": 31,
   "metadata": {},
   "outputs": [
    {
     "name": "stdout",
     "output_type": "stream",
     "text": [
      "hoje vai chover!\n"
     ]
    }
   ],
   "source": [
    "#elif é se não. caso o \"if\" for falso, roda o elif, ou seja, o \"se não\"\n",
    "#elif é uma segunda condição de verdade, caso a primeira não foi satisfeita, roda a segunda. Isso para que não haja muitos \"if\" no mesmo código.\n",
    "if dia == \"segunda\":\n",
    "    print(\"hoje fará sol!\")\n",
    "elif dia == \"terça\":\n",
    "    print(\"hoje vai chover!\")\n",
    "else:\n",
    "    print(\"Sem previsão do tempo para o dia selecionado!\")"
   ]
  },
  {
   "cell_type": "markdown",
   "metadata": {},
   "source": [
    "## Operadores lógicos"
   ]
  },
  {
   "cell_type": "code",
   "execution_count": 32,
   "metadata": {},
   "outputs": [
    {
     "name": "stdout",
     "output_type": "stream",
     "text": [
      "Você pode dirigir!\n"
     ]
    }
   ],
   "source": [
    "idade = 18\n",
    "nome = \"Bob\"\n",
    "if idade > 17:\n",
    "   print(\"Você pode dirigir!\")"
   ]
  },
  {
   "cell_type": "code",
   "execution_count": 33,
   "metadata": {},
   "outputs": [
    {
     "name": "stdout",
     "output_type": "stream",
     "text": [
      "Autorizado!\n"
     ]
    }
   ],
   "source": [
    "#dois operadores, quando há a necessidade de verificar se as duas condições são satisfeitas.\n",
    "idade = 18\n",
    "if idade > 16 and nome == \"Bob\":\n",
    "   print(\"Autorizado!\")"
   ]
  },
  {
   "cell_type": "code",
   "execution_count": 34,
   "metadata": {},
   "outputs": [
    {
     "name": "stdout",
     "output_type": "stream",
     "text": [
      "Digite o nome da disciplina: Geografia\n",
      "Digite a nota final (entre 0 e 100): 80\n",
      "Você foi aprovado!\n"
     ]
    }
   ],
   "source": [
    "# Usando mais de uma condição na cláusula if - input é uma função interativa com o usuário.\n",
    "\n",
    "disciplina = input('Digite o nome da disciplina: ')\n",
    "nota_final = input('Digite a nota final (entre 0 e 100): ')\n",
    "\n",
    "if disciplina == 'Geografia' and nota_final >= '70':\n",
    "    print('Você foi aprovado!')\n",
    "else:\n",
    "    print('Lamento, acho que você precisa estudar mais!')"
   ]
  },
  {
   "cell_type": "code",
   "execution_count": 36,
   "metadata": {},
   "outputs": [
    {
     "name": "stdout",
     "output_type": "stream",
     "text": [
      "Digite o nome da disciplina: Geografia\n",
      "Digite a nota final (entre 0 e 100): 88\n",
      "Digite o semestre (1 a 4): 2\n",
      "Você foi aprovado em Geografia com média final '88'!\n"
     ]
    }
   ],
   "source": [
    "# Usando mais de uma condição na cláusula if e introduzindo Placeholders\n",
    "# %s e %r - imprimir mensagem na tela o valor do primeiro elemento do () e continuar a imprimir com o segundo elemento do ().\n",
    "disciplina = input('Digite o nome da disciplina: ')\n",
    "nota_final = input('Digite a nota final (entre 0 e 100): ')\n",
    "semestre = input('Digite o semestre (1 a 4): ')\n",
    "\n",
    "if disciplina == 'Geografia' and nota_final >= '50' and int(semestre) != 1:\n",
    "    print('Você foi aprovado em %s com média final %r!' %(disciplina, nota_final))\n",
    "else:\n",
    "    print('Lamento, acho que você precisa estudar mais!')"
   ]
  },
  {
   "cell_type": "code",
   "execution_count": 39,
   "metadata": {},
   "outputs": [
    {
     "name": "stdout",
     "output_type": "stream",
     "text": [
      "Qual autor você gosta?Cervantes\n",
      "de 0 a 10, quanto?7\n",
      "Eu também gosto dele!\n"
     ]
    }
   ],
   "source": [
    "gosto = input('Qual autor você gosta?')\n",
    "quanto = input('de 0 a 10, quanto?')\n",
    "\n",
    "if gosto == 'Cervantes' and quanto >= '5' :\n",
    "    print('Eu também gosto dele!')\n",
    "else:\n",
    "    print('Essx eu não conheço, vou pesquisar!')\n",
    "    "
   ]
  },
  {
   "cell_type": "markdown",
   "metadata": {},
   "source": [
    "## fim"
   ]
  },
  {
   "cell_type": "code",
   "execution_count": null,
   "metadata": {},
   "outputs": [],
   "source": []
  }
 ],
 "metadata": {
  "kernelspec": {
   "display_name": "Python 3",
   "language": "python",
   "name": "python3"
  },
  "language_info": {
   "codemirror_mode": {
    "name": "ipython",
    "version": 3
   },
   "file_extension": ".py",
   "mimetype": "text/x-python",
   "name": "python",
   "nbconvert_exporter": "python",
   "pygments_lexer": "ipython3",
   "version": "3.8.5"
  }
 },
 "nbformat": 4,
 "nbformat_minor": 4
}
